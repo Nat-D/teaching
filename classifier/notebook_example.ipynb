{
 "cells": [
  {
   "cell_type": "markdown",
   "id": "fbc2df2c-9c87-4067-b769-a1914ee7e8ec",
   "metadata": {},
   "source": [
    "Run the code with a jupyter notebook"
   ]
  },
  {
   "cell_type": "code",
   "execution_count": 10,
   "id": "8d95fdd3-b220-41d2-baa8-fea533cb2933",
   "metadata": {},
   "outputs": [
    {
     "name": "stdout",
     "output_type": "stream",
     "text": [
      "The autoreload extension is already loaded. To reload it, use:\n",
      "  %reload_ext autoreload\n"
     ]
    }
   ],
   "source": [
    "%load_ext autoreload\n",
    "%autoreload 2\n",
    "import train"
   ]
  },
  {
   "cell_type": "code",
   "execution_count": 12,
   "id": "5a2a6cd4-5c21-4544-94bb-4686c9a3d962",
   "metadata": {},
   "outputs": [
    {
     "name": "stdout",
     "output_type": "stream",
     "text": [
      "(Train Set) Avg Loss: 0.6479139474167186\n",
      "(Val Set) Got 3315 / 4921 with accuracy 67.36\n",
      "(Train Set) Avg Loss: 0.5985081549852517\n",
      "(Val Set) Got 3418 / 4921 with accuracy 69.46\n",
      "(Train Set) Avg Loss: 0.5696374541919702\n",
      "(Val Set) Got 3490 / 4921 with accuracy 70.92\n",
      "(Train Set) Avg Loss: 0.5428821212451929\n",
      "(Val Set) Got 3546 / 4921 with accuracy 72.06\n",
      "(Train Set) Avg Loss: 0.517650281405373\n",
      "(Val Set) Got 3617 / 4921 with accuracy 73.50\n",
      "(Train Set) Avg Loss: 0.4917173236608505\n",
      "(Val Set) Got 3647 / 4921 with accuracy 74.11\n",
      "(Train Set) Avg Loss: 0.4649227556244583\n",
      "(Val Set) Got 3664 / 4921 with accuracy 74.46\n",
      "(Train Set) Avg Loss: 0.4401882246231577\n",
      "(Val Set) Got 3616 / 4921 with accuracy 73.48\n",
      "(Train Set) Avg Loss: 0.413416060767356\n",
      "(Val Set) Got 3685 / 4921 with accuracy 74.88\n",
      "(Train Set) Avg Loss: 0.37554820567654196\n",
      "(Val Set) Got 3662 / 4921 with accuracy 74.42\n"
     ]
    }
   ],
   "source": [
    "train.main()"
   ]
  },
  {
   "cell_type": "code",
   "execution_count": null,
   "id": "8660d29f-2b26-4471-a9e9-8a218dbbd6a6",
   "metadata": {},
   "outputs": [],
   "source": []
  },
  {
   "cell_type": "code",
   "execution_count": null,
   "id": "0a3adbb4-dd11-422c-bd92-390f3de557a2",
   "metadata": {},
   "outputs": [],
   "source": []
  }
 ],
 "metadata": {
  "kernelspec": {
   "display_name": "Python 3 (ipykernel)",
   "language": "python",
   "name": "python3"
  },
  "language_info": {
   "codemirror_mode": {
    "name": "ipython",
    "version": 3
   },
   "file_extension": ".py",
   "mimetype": "text/x-python",
   "name": "python",
   "nbconvert_exporter": "python",
   "pygments_lexer": "ipython3",
   "version": "3.8.13"
  }
 },
 "nbformat": 4,
 "nbformat_minor": 5
}
